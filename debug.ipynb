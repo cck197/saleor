{
 "cells": [
  {
   "cell_type": "code",
   "execution_count": 1,
   "metadata": {},
   "outputs": [],
   "source": [
    "from saleor.checkout.utils import *\n",
    "from saleor.product.utils import *\n",
    "from saleor.payment.utils import *\n",
    "from saleor.payment.gateway import *"
   ]
  },
  {
   "cell_type": "markdown",
   "metadata": {
    "heading_collapsed": true
   },
   "source": [
    "### Fannying around with address forms"
   ]
  },
  {
   "cell_type": "code",
   "execution_count": 1,
   "metadata": {
    "hidden": true
   },
   "outputs": [],
   "source": [
    "from i18naddress import normalize_address, InvalidAddress"
   ]
  },
  {
   "cell_type": "code",
   "execution_count": 2,
   "metadata": {
    "hidden": true
   },
   "outputs": [],
   "source": [
    "address = normalize_address({\n",
    "    'country_code': 'US',\n",
    "    'country_area': 'California',\n",
    "    'city': 'Mountain View',\n",
    "    'postal_code': '94043',\n",
    "    'street_address': '1600 Amphitheatre Pkwy'})"
   ]
  },
  {
   "cell_type": "code",
   "execution_count": 3,
   "metadata": {
    "hidden": true
   },
   "outputs": [
    {
     "data": {
      "text/plain": [
       "{'country_code': 'US',\n",
       " 'country_area': 'CA',\n",
       " 'city': 'MOUNTAIN VIEW',\n",
       " 'postal_code': '94043',\n",
       " 'street_address': '1600 Amphitheatre Pkwy',\n",
       " 'city_area': '',\n",
       " 'sorting_code': ''}"
      ]
     },
     "execution_count": 3,
     "metadata": {},
     "output_type": "execute_result"
    }
   ],
   "source": [
    "address"
   ]
  },
  {
   "cell_type": "code",
   "execution_count": 4,
   "metadata": {
    "hidden": true
   },
   "outputs": [
    {
     "name": "stdout",
     "output_type": "stream",
     "text": [
      "{'country_area': 'required', 'city': 'required', 'postal_code': 'required', 'street_address': 'required'}\n"
     ]
    }
   ],
   "source": [
    "try:\n",
    "    address = normalize_address({'country_code': 'US'})\n",
    "except InvalidAddress as e:\n",
    "    print(e.errors)"
   ]
  },
  {
   "cell_type": "code",
   "execution_count": 4,
   "metadata": {
    "hidden": true
   },
   "outputs": [
    {
     "name": "stdout",
     "output_type": "stream",
     "text": [
      "Automatic pdb calling has been turned ON\n"
     ]
    }
   ],
   "source": [
    "%pdb"
   ]
  },
  {
   "cell_type": "code",
   "execution_count": 1,
   "metadata": {
    "hidden": true
   },
   "outputs": [],
   "source": [
    "from saleor.account import i18n"
   ]
  },
  {
   "cell_type": "code",
   "execution_count": 34,
   "metadata": {
    "hidden": true
   },
   "outputs": [],
   "source": [
    "d = {'csrfmiddlewaretoken': ['cxHqQBwfi6Dt6hhXpyHEdsoWdAY5AxMk7lmMFLYQiWcYpQOotkhQEscuHb3HyIda', 'cxHqQBwfi6Dt6hhXpyHEdsoWdAY5AxMk7lmMFLYQiWcYpQOotkhQEscuHb3HyIda'], 'address': ['new_address'], 'first_name': ['Christopher'], 'last_name': ['Kelly'], 'company_name': ['Nourish Balance Thrive'], 'street_address_1': ['471 Country Estates Ter'], 'street_address_2': [''], 'city': ['Santa Cruz'], 'country_area': ['CA'], 'postal_code': ['95060'], 'city_area': [''], 'country': ['US'], 'phone_1': [''], 'preview': [''], 'shipping_method': ['13'], 'cardholder-name': ['Christopher Kelly'], 'payment_method_id': ['pm_1FmLG5DGt0TthQJwmdlFHvWr']}"
   ]
  },
  {
   "cell_type": "code",
   "execution_count": 35,
   "metadata": {
    "hidden": true
   },
   "outputs": [],
   "source": [
    "form = i18n.COUNTRY_FORMS['US'](d)"
   ]
  },
  {
   "cell_type": "code",
   "execution_count": 99,
   "metadata": {
    "hidden": true
   },
   "outputs": [],
   "source": [
    "form = i18n.COUNTRY_FORMS['US']()"
   ]
  },
  {
   "cell_type": "code",
   "execution_count": 101,
   "metadata": {
    "hidden": true
   },
   "outputs": [
    {
     "data": {
      "text/plain": [
       "<AddressFormUS bound=False, valid=False, fields=(first_name;last_name;company_name;street_address_1;street_address_2;city;city_area;postal_code;country;country_area;phone)>"
      ]
     },
     "execution_count": 101,
     "metadata": {},
     "output_type": "execute_result"
    }
   ],
   "source": [
    "form"
   ]
  },
  {
   "cell_type": "code",
   "execution_count": 102,
   "metadata": {
    "hidden": true
   },
   "outputs": [
    {
     "data": {
      "text/plain": [
       "(False, {})"
      ]
     },
     "execution_count": 102,
     "metadata": {},
     "output_type": "execute_result"
    }
   ],
   "source": [
    "form.is_valid(), form.errors"
   ]
  },
  {
   "cell_type": "code",
   "execution_count": 103,
   "metadata": {
    "hidden": true
   },
   "outputs": [
    {
     "data": {
      "text/plain": [
       "{}"
      ]
     },
     "execution_count": 103,
     "metadata": {},
     "output_type": "execute_result"
    }
   ],
   "source": [
    "form._errors"
   ]
  },
  {
   "cell_type": "code",
   "execution_count": 6,
   "metadata": {
    "hidden": true
   },
   "outputs": [
    {
     "data": {
      "text/plain": [
       "['This field is required.']"
      ]
     },
     "execution_count": 6,
     "metadata": {},
     "output_type": "execute_result"
    }
   ],
   "source": [
    "[e.message for e in form.errors.as_data().get('country')]"
   ]
  },
  {
   "cell_type": "code",
   "execution_count": 21,
   "metadata": {
    "hidden": true
   },
   "outputs": [
    {
     "data": {
      "text/plain": [
       "'/home/cck197/saleor/venv2/lib/python3.7/site-packages/i18naddress/__init__.py'"
      ]
     },
     "execution_count": 21,
     "metadata": {},
     "output_type": "execute_result"
    }
   ],
   "source": [
    "i18naddress.__file__"
   ]
  },
  {
   "cell_type": "code",
   "execution_count": 104,
   "metadata": {
    "hidden": true
   },
   "outputs": [
    {
     "data": {
      "text/plain": [
       "'/home/cck197/saleor/saleor/account/i18n.py'"
      ]
     },
     "execution_count": 104,
     "metadata": {},
     "output_type": "execute_result"
    }
   ],
   "source": [
    "i18n.__file__"
   ]
  },
  {
   "cell_type": "code",
   "execution_count": null,
   "metadata": {
    "hidden": true
   },
   "outputs": [],
   "source": []
  },
  {
   "cell_type": "markdown",
   "metadata": {},
   "source": [
    "### ProductVariant"
   ]
  },
  {
   "cell_type": "code",
   "execution_count": 18,
   "metadata": {},
   "outputs": [],
   "source": [
    "p = Product.objects.get(id=121)"
   ]
  },
  {
   "cell_type": "code",
   "execution_count": 19,
   "metadata": {},
   "outputs": [
    {
     "data": {
      "text/plain": [
       "['no subscription', 'no trials', 'one-time payment']"
      ]
     },
     "execution_count": 19,
     "metadata": {},
     "output_type": "execute_result"
    }
   ],
   "source": [
    "[str(v) for v in p.get_attr_startswith('ppf_')]"
   ]
  },
  {
   "cell_type": "code",
   "execution_count": 20,
   "metadata": {},
   "outputs": [
    {
     "data": {
      "text/plain": [
       "Money('34.99', 'USD')"
      ]
     },
     "execution_count": 20,
     "metadata": {},
     "output_type": "execute_result"
    }
   ],
   "source": [
    "p.price"
   ]
  },
  {
   "cell_type": "code",
   "execution_count": 26,
   "metadata": {},
   "outputs": [
    {
     "ename": "FieldError",
     "evalue": "Unsupported lookup 'name' for VersatileImageField or join on the field not permitted.",
     "output_type": "error",
     "traceback": [
      "\u001b[0;31m---------------------------------------------------------------------------\u001b[0m",
      "\u001b[0;31mFieldError\u001b[0m                                Traceback (most recent call last)",
      "\u001b[0;32m<ipython-input-26-78e3a4917bf5>\u001b[0m in \u001b[0;36m<module>\u001b[0;34m\u001b[0m\n\u001b[0;32m----> 1\u001b[0;31m \u001b[0mp\u001b[0m\u001b[0;34m.\u001b[0m\u001b[0mimages\u001b[0m\u001b[0;34m.\u001b[0m\u001b[0mfilter\u001b[0m\u001b[0;34m(\u001b[0m\u001b[0mimage__name\u001b[0m\u001b[0;34m=\u001b[0m\u001b[0;34m'products/EKC-3rd-3d-s.png'\u001b[0m\u001b[0;34m)\u001b[0m\u001b[0;34m\u001b[0m\u001b[0;34m\u001b[0m\u001b[0m\n\u001b[0m",
      "\u001b[0;32m~/saleor/venv2/lib/python3.7/site-packages/django/db/models/manager.py\u001b[0m in \u001b[0;36mmanager_method\u001b[0;34m(self, *args, **kwargs)\u001b[0m\n\u001b[1;32m     80\u001b[0m         \u001b[0;32mdef\u001b[0m \u001b[0mcreate_method\u001b[0m\u001b[0;34m(\u001b[0m\u001b[0mname\u001b[0m\u001b[0;34m,\u001b[0m \u001b[0mmethod\u001b[0m\u001b[0;34m)\u001b[0m\u001b[0;34m:\u001b[0m\u001b[0;34m\u001b[0m\u001b[0;34m\u001b[0m\u001b[0m\n\u001b[1;32m     81\u001b[0m             \u001b[0;32mdef\u001b[0m \u001b[0mmanager_method\u001b[0m\u001b[0;34m(\u001b[0m\u001b[0mself\u001b[0m\u001b[0;34m,\u001b[0m \u001b[0;34m*\u001b[0m\u001b[0margs\u001b[0m\u001b[0;34m,\u001b[0m \u001b[0;34m**\u001b[0m\u001b[0mkwargs\u001b[0m\u001b[0;34m)\u001b[0m\u001b[0;34m:\u001b[0m\u001b[0;34m\u001b[0m\u001b[0;34m\u001b[0m\u001b[0m\n\u001b[0;32m---> 82\u001b[0;31m                 \u001b[0;32mreturn\u001b[0m \u001b[0mgetattr\u001b[0m\u001b[0;34m(\u001b[0m\u001b[0mself\u001b[0m\u001b[0;34m.\u001b[0m\u001b[0mget_queryset\u001b[0m\u001b[0;34m(\u001b[0m\u001b[0;34m)\u001b[0m\u001b[0;34m,\u001b[0m \u001b[0mname\u001b[0m\u001b[0;34m)\u001b[0m\u001b[0;34m(\u001b[0m\u001b[0;34m*\u001b[0m\u001b[0margs\u001b[0m\u001b[0;34m,\u001b[0m \u001b[0;34m**\u001b[0m\u001b[0mkwargs\u001b[0m\u001b[0;34m)\u001b[0m\u001b[0;34m\u001b[0m\u001b[0;34m\u001b[0m\u001b[0m\n\u001b[0m\u001b[1;32m     83\u001b[0m             \u001b[0mmanager_method\u001b[0m\u001b[0;34m.\u001b[0m\u001b[0m__name__\u001b[0m \u001b[0;34m=\u001b[0m \u001b[0mmethod\u001b[0m\u001b[0;34m.\u001b[0m\u001b[0m__name__\u001b[0m\u001b[0;34m\u001b[0m\u001b[0;34m\u001b[0m\u001b[0m\n\u001b[1;32m     84\u001b[0m             \u001b[0mmanager_method\u001b[0m\u001b[0;34m.\u001b[0m\u001b[0m__doc__\u001b[0m \u001b[0;34m=\u001b[0m \u001b[0mmethod\u001b[0m\u001b[0;34m.\u001b[0m\u001b[0m__doc__\u001b[0m\u001b[0;34m\u001b[0m\u001b[0;34m\u001b[0m\u001b[0m\n",
      "\u001b[0;32m~/saleor/venv2/lib/python3.7/site-packages/django/db/models/query.py\u001b[0m in \u001b[0;36mfilter\u001b[0;34m(self, *args, **kwargs)\u001b[0m\n\u001b[1;32m    890\u001b[0m         \u001b[0mset\u001b[0m\u001b[0;34m.\u001b[0m\u001b[0;34m\u001b[0m\u001b[0;34m\u001b[0m\u001b[0m\n\u001b[1;32m    891\u001b[0m         \"\"\"\n\u001b[0;32m--> 892\u001b[0;31m         \u001b[0;32mreturn\u001b[0m \u001b[0mself\u001b[0m\u001b[0;34m.\u001b[0m\u001b[0m_filter_or_exclude\u001b[0m\u001b[0;34m(\u001b[0m\u001b[0;32mFalse\u001b[0m\u001b[0;34m,\u001b[0m \u001b[0;34m*\u001b[0m\u001b[0margs\u001b[0m\u001b[0;34m,\u001b[0m \u001b[0;34m**\u001b[0m\u001b[0mkwargs\u001b[0m\u001b[0;34m)\u001b[0m\u001b[0;34m\u001b[0m\u001b[0;34m\u001b[0m\u001b[0m\n\u001b[0m\u001b[1;32m    893\u001b[0m \u001b[0;34m\u001b[0m\u001b[0m\n\u001b[1;32m    894\u001b[0m     \u001b[0;32mdef\u001b[0m \u001b[0mexclude\u001b[0m\u001b[0;34m(\u001b[0m\u001b[0mself\u001b[0m\u001b[0;34m,\u001b[0m \u001b[0;34m*\u001b[0m\u001b[0margs\u001b[0m\u001b[0;34m,\u001b[0m \u001b[0;34m**\u001b[0m\u001b[0mkwargs\u001b[0m\u001b[0;34m)\u001b[0m\u001b[0;34m:\u001b[0m\u001b[0;34m\u001b[0m\u001b[0;34m\u001b[0m\u001b[0m\n",
      "\u001b[0;32m~/saleor/venv2/lib/python3.7/site-packages/django/db/models/query.py\u001b[0m in \u001b[0;36m_filter_or_exclude\u001b[0;34m(self, negate, *args, **kwargs)\u001b[0m\n\u001b[1;32m    908\u001b[0m             \u001b[0mclone\u001b[0m\u001b[0;34m.\u001b[0m\u001b[0mquery\u001b[0m\u001b[0;34m.\u001b[0m\u001b[0madd_q\u001b[0m\u001b[0;34m(\u001b[0m\u001b[0;34m~\u001b[0m\u001b[0mQ\u001b[0m\u001b[0;34m(\u001b[0m\u001b[0;34m*\u001b[0m\u001b[0margs\u001b[0m\u001b[0;34m,\u001b[0m \u001b[0;34m**\u001b[0m\u001b[0mkwargs\u001b[0m\u001b[0;34m)\u001b[0m\u001b[0;34m)\u001b[0m\u001b[0;34m\u001b[0m\u001b[0;34m\u001b[0m\u001b[0m\n\u001b[1;32m    909\u001b[0m         \u001b[0;32melse\u001b[0m\u001b[0;34m:\u001b[0m\u001b[0;34m\u001b[0m\u001b[0;34m\u001b[0m\u001b[0m\n\u001b[0;32m--> 910\u001b[0;31m             \u001b[0mclone\u001b[0m\u001b[0;34m.\u001b[0m\u001b[0mquery\u001b[0m\u001b[0;34m.\u001b[0m\u001b[0madd_q\u001b[0m\u001b[0;34m(\u001b[0m\u001b[0mQ\u001b[0m\u001b[0;34m(\u001b[0m\u001b[0;34m*\u001b[0m\u001b[0margs\u001b[0m\u001b[0;34m,\u001b[0m \u001b[0;34m**\u001b[0m\u001b[0mkwargs\u001b[0m\u001b[0;34m)\u001b[0m\u001b[0;34m)\u001b[0m\u001b[0;34m\u001b[0m\u001b[0;34m\u001b[0m\u001b[0m\n\u001b[0m\u001b[1;32m    911\u001b[0m         \u001b[0;32mreturn\u001b[0m \u001b[0mclone\u001b[0m\u001b[0;34m\u001b[0m\u001b[0;34m\u001b[0m\u001b[0m\n\u001b[1;32m    912\u001b[0m \u001b[0;34m\u001b[0m\u001b[0m\n",
      "\u001b[0;32m~/saleor/venv2/lib/python3.7/site-packages/django/db/models/sql/query.py\u001b[0m in \u001b[0;36madd_q\u001b[0;34m(self, q_object)\u001b[0m\n\u001b[1;32m   1288\u001b[0m         \u001b[0;31m# So, demotion is OK.\u001b[0m\u001b[0;34m\u001b[0m\u001b[0;34m\u001b[0m\u001b[0;34m\u001b[0m\u001b[0m\n\u001b[1;32m   1289\u001b[0m         \u001b[0mexisting_inner\u001b[0m \u001b[0;34m=\u001b[0m \u001b[0;34m{\u001b[0m\u001b[0ma\u001b[0m \u001b[0;32mfor\u001b[0m \u001b[0ma\u001b[0m \u001b[0;32min\u001b[0m \u001b[0mself\u001b[0m\u001b[0;34m.\u001b[0m\u001b[0malias_map\u001b[0m \u001b[0;32mif\u001b[0m \u001b[0mself\u001b[0m\u001b[0;34m.\u001b[0m\u001b[0malias_map\u001b[0m\u001b[0;34m[\u001b[0m\u001b[0ma\u001b[0m\u001b[0;34m]\u001b[0m\u001b[0;34m.\u001b[0m\u001b[0mjoin_type\u001b[0m \u001b[0;34m==\u001b[0m \u001b[0mINNER\u001b[0m\u001b[0;34m}\u001b[0m\u001b[0;34m\u001b[0m\u001b[0;34m\u001b[0m\u001b[0m\n\u001b[0;32m-> 1290\u001b[0;31m         \u001b[0mclause\u001b[0m\u001b[0;34m,\u001b[0m \u001b[0m_\u001b[0m \u001b[0;34m=\u001b[0m \u001b[0mself\u001b[0m\u001b[0;34m.\u001b[0m\u001b[0m_add_q\u001b[0m\u001b[0;34m(\u001b[0m\u001b[0mq_object\u001b[0m\u001b[0;34m,\u001b[0m \u001b[0mself\u001b[0m\u001b[0;34m.\u001b[0m\u001b[0mused_aliases\u001b[0m\u001b[0;34m)\u001b[0m\u001b[0;34m\u001b[0m\u001b[0;34m\u001b[0m\u001b[0m\n\u001b[0m\u001b[1;32m   1291\u001b[0m         \u001b[0;32mif\u001b[0m \u001b[0mclause\u001b[0m\u001b[0;34m:\u001b[0m\u001b[0;34m\u001b[0m\u001b[0;34m\u001b[0m\u001b[0m\n\u001b[1;32m   1292\u001b[0m             \u001b[0mself\u001b[0m\u001b[0;34m.\u001b[0m\u001b[0mwhere\u001b[0m\u001b[0;34m.\u001b[0m\u001b[0madd\u001b[0m\u001b[0;34m(\u001b[0m\u001b[0mclause\u001b[0m\u001b[0;34m,\u001b[0m \u001b[0mAND\u001b[0m\u001b[0;34m)\u001b[0m\u001b[0;34m\u001b[0m\u001b[0;34m\u001b[0m\u001b[0m\n",
      "\u001b[0;32m~/saleor/venv2/lib/python3.7/site-packages/django/db/models/sql/query.py\u001b[0m in \u001b[0;36m_add_q\u001b[0;34m(self, q_object, used_aliases, branch_negated, current_negated, allow_joins, split_subq, simple_col)\u001b[0m\n\u001b[1;32m   1316\u001b[0m                     \u001b[0mchild\u001b[0m\u001b[0;34m,\u001b[0m \u001b[0mcan_reuse\u001b[0m\u001b[0;34m=\u001b[0m\u001b[0mused_aliases\u001b[0m\u001b[0;34m,\u001b[0m \u001b[0mbranch_negated\u001b[0m\u001b[0;34m=\u001b[0m\u001b[0mbranch_negated\u001b[0m\u001b[0;34m,\u001b[0m\u001b[0;34m\u001b[0m\u001b[0;34m\u001b[0m\u001b[0m\n\u001b[1;32m   1317\u001b[0m                     \u001b[0mcurrent_negated\u001b[0m\u001b[0;34m=\u001b[0m\u001b[0mcurrent_negated\u001b[0m\u001b[0;34m,\u001b[0m \u001b[0mallow_joins\u001b[0m\u001b[0;34m=\u001b[0m\u001b[0mallow_joins\u001b[0m\u001b[0;34m,\u001b[0m\u001b[0;34m\u001b[0m\u001b[0;34m\u001b[0m\u001b[0m\n\u001b[0;32m-> 1318\u001b[0;31m                     \u001b[0msplit_subq\u001b[0m\u001b[0;34m=\u001b[0m\u001b[0msplit_subq\u001b[0m\u001b[0;34m,\u001b[0m \u001b[0msimple_col\u001b[0m\u001b[0;34m=\u001b[0m\u001b[0msimple_col\u001b[0m\u001b[0;34m,\u001b[0m\u001b[0;34m\u001b[0m\u001b[0;34m\u001b[0m\u001b[0m\n\u001b[0m\u001b[1;32m   1319\u001b[0m                 )\n\u001b[1;32m   1320\u001b[0m                 \u001b[0mjoinpromoter\u001b[0m\u001b[0;34m.\u001b[0m\u001b[0madd_votes\u001b[0m\u001b[0;34m(\u001b[0m\u001b[0mneeded_inner\u001b[0m\u001b[0;34m)\u001b[0m\u001b[0;34m\u001b[0m\u001b[0;34m\u001b[0m\u001b[0m\n",
      "\u001b[0;32m~/saleor/venv2/lib/python3.7/site-packages/django/db/models/sql/query.py\u001b[0m in \u001b[0;36mbuild_filter\u001b[0;34m(self, filter_expr, branch_negated, current_negated, can_reuse, allow_joins, split_subq, reuse_with_filtered_relation, simple_col)\u001b[0m\n\u001b[1;32m   1249\u001b[0m             \u001b[0mcol\u001b[0m \u001b[0;34m=\u001b[0m \u001b[0m_get_col\u001b[0m\u001b[0;34m(\u001b[0m\u001b[0mtargets\u001b[0m\u001b[0;34m[\u001b[0m\u001b[0;36m0\u001b[0m\u001b[0;34m]\u001b[0m\u001b[0;34m,\u001b[0m \u001b[0mjoin_info\u001b[0m\u001b[0;34m.\u001b[0m\u001b[0mfinal_field\u001b[0m\u001b[0;34m,\u001b[0m \u001b[0malias\u001b[0m\u001b[0;34m,\u001b[0m \u001b[0msimple_col\u001b[0m\u001b[0;34m)\u001b[0m\u001b[0;34m\u001b[0m\u001b[0;34m\u001b[0m\u001b[0m\n\u001b[1;32m   1250\u001b[0m \u001b[0;34m\u001b[0m\u001b[0m\n\u001b[0;32m-> 1251\u001b[0;31m         \u001b[0mcondition\u001b[0m \u001b[0;34m=\u001b[0m \u001b[0mself\u001b[0m\u001b[0;34m.\u001b[0m\u001b[0mbuild_lookup\u001b[0m\u001b[0;34m(\u001b[0m\u001b[0mlookups\u001b[0m\u001b[0;34m,\u001b[0m \u001b[0mcol\u001b[0m\u001b[0;34m,\u001b[0m \u001b[0mvalue\u001b[0m\u001b[0;34m)\u001b[0m\u001b[0;34m\u001b[0m\u001b[0;34m\u001b[0m\u001b[0m\n\u001b[0m\u001b[1;32m   1252\u001b[0m         \u001b[0mlookup_type\u001b[0m \u001b[0;34m=\u001b[0m \u001b[0mcondition\u001b[0m\u001b[0;34m.\u001b[0m\u001b[0mlookup_name\u001b[0m\u001b[0;34m\u001b[0m\u001b[0;34m\u001b[0m\u001b[0m\n\u001b[1;32m   1253\u001b[0m         \u001b[0mclause\u001b[0m\u001b[0;34m.\u001b[0m\u001b[0madd\u001b[0m\u001b[0;34m(\u001b[0m\u001b[0mcondition\u001b[0m\u001b[0;34m,\u001b[0m \u001b[0mAND\u001b[0m\u001b[0;34m)\u001b[0m\u001b[0;34m\u001b[0m\u001b[0;34m\u001b[0m\u001b[0m\n",
      "\u001b[0;32m~/saleor/venv2/lib/python3.7/site-packages/django/db/models/sql/query.py\u001b[0m in \u001b[0;36mbuild_lookup\u001b[0;34m(self, lookups, lhs, rhs)\u001b[0m\n\u001b[1;32m   1108\u001b[0m             \u001b[0;31m# A lookup wasn't found. Try to interpret the name as a transform\u001b[0m\u001b[0;34m\u001b[0m\u001b[0;34m\u001b[0m\u001b[0;34m\u001b[0m\u001b[0m\n\u001b[1;32m   1109\u001b[0m             \u001b[0;31m# and do an Exact lookup against it.\u001b[0m\u001b[0;34m\u001b[0m\u001b[0;34m\u001b[0m\u001b[0;34m\u001b[0m\u001b[0m\n\u001b[0;32m-> 1110\u001b[0;31m             \u001b[0mlhs\u001b[0m \u001b[0;34m=\u001b[0m \u001b[0mself\u001b[0m\u001b[0;34m.\u001b[0m\u001b[0mtry_transform\u001b[0m\u001b[0;34m(\u001b[0m\u001b[0mlhs\u001b[0m\u001b[0;34m,\u001b[0m \u001b[0mlookup_name\u001b[0m\u001b[0;34m)\u001b[0m\u001b[0;34m\u001b[0m\u001b[0;34m\u001b[0m\u001b[0m\n\u001b[0m\u001b[1;32m   1111\u001b[0m             \u001b[0mlookup_name\u001b[0m \u001b[0;34m=\u001b[0m \u001b[0;34m'exact'\u001b[0m\u001b[0;34m\u001b[0m\u001b[0;34m\u001b[0m\u001b[0m\n\u001b[1;32m   1112\u001b[0m             \u001b[0mlookup_class\u001b[0m \u001b[0;34m=\u001b[0m \u001b[0mlhs\u001b[0m\u001b[0;34m.\u001b[0m\u001b[0mget_lookup\u001b[0m\u001b[0;34m(\u001b[0m\u001b[0mlookup_name\u001b[0m\u001b[0;34m)\u001b[0m\u001b[0;34m\u001b[0m\u001b[0;34m\u001b[0m\u001b[0m\n",
      "\u001b[0;32m~/saleor/venv2/lib/python3.7/site-packages/django/db/models/sql/query.py\u001b[0m in \u001b[0;36mtry_transform\u001b[0;34m(self, lhs, name)\u001b[0m\n\u001b[1;32m   1149\u001b[0m             raise FieldError(\n\u001b[1;32m   1150\u001b[0m                 \u001b[0;34m\"Unsupported lookup '%s' for %s or join on the field not \"\u001b[0m\u001b[0;34m\u001b[0m\u001b[0;34m\u001b[0m\u001b[0m\n\u001b[0;32m-> 1151\u001b[0;31m                 \u001b[0;34m\"permitted%s\"\u001b[0m \u001b[0;34m%\u001b[0m \u001b[0;34m(\u001b[0m\u001b[0mname\u001b[0m\u001b[0;34m,\u001b[0m \u001b[0moutput_field\u001b[0m\u001b[0;34m.\u001b[0m\u001b[0m__name__\u001b[0m\u001b[0;34m,\u001b[0m \u001b[0msuggestion\u001b[0m\u001b[0;34m)\u001b[0m\u001b[0;34m\u001b[0m\u001b[0;34m\u001b[0m\u001b[0m\n\u001b[0m\u001b[1;32m   1152\u001b[0m             )\n\u001b[1;32m   1153\u001b[0m \u001b[0;34m\u001b[0m\u001b[0m\n",
      "\u001b[0;31mFieldError\u001b[0m: Unsupported lookup 'name' for VersatileImageField or join on the field not permitted."
     ]
    }
   ],
   "source": [
    "p.images.filter(image__name='products/EKC-3rd-3d-s.png')"
   ]
  },
  {
   "cell_type": "code",
   "execution_count": 48,
   "metadata": {},
   "outputs": [
    {
     "ename": "AttributeError",
     "evalue": "'ProductImage' object has no attribute 'url'",
     "output_type": "error",
     "traceback": [
      "\u001b[0;31m---------------------------------------------------------------------------\u001b[0m",
      "\u001b[0;31mAttributeError\u001b[0m                            Traceback (most recent call last)",
      "\u001b[0;32m<ipython-input-48-060e15ae441e>\u001b[0m in \u001b[0;36m<module>\u001b[0;34m\u001b[0m\n\u001b[0;32m----> 1\u001b[0;31m \u001b[0;34m[\u001b[0m\u001b[0mi\u001b[0m\u001b[0;34m.\u001b[0m\u001b[0murl\u001b[0m \u001b[0;32mfor\u001b[0m \u001b[0mi\u001b[0m \u001b[0;32min\u001b[0m \u001b[0mp\u001b[0m\u001b[0;34m.\u001b[0m\u001b[0mimages\u001b[0m\u001b[0;34m.\u001b[0m\u001b[0mall\u001b[0m\u001b[0;34m(\u001b[0m\u001b[0;34m)\u001b[0m\u001b[0;34m]\u001b[0m\u001b[0;34m\u001b[0m\u001b[0;34m\u001b[0m\u001b[0m\n\u001b[0m",
      "\u001b[0;32m<ipython-input-48-060e15ae441e>\u001b[0m in \u001b[0;36m<listcomp>\u001b[0;34m(.0)\u001b[0m\n\u001b[0;32m----> 1\u001b[0;31m \u001b[0;34m[\u001b[0m\u001b[0mi\u001b[0m\u001b[0;34m.\u001b[0m\u001b[0murl\u001b[0m \u001b[0;32mfor\u001b[0m \u001b[0mi\u001b[0m \u001b[0;32min\u001b[0m \u001b[0mp\u001b[0m\u001b[0;34m.\u001b[0m\u001b[0mimages\u001b[0m\u001b[0;34m.\u001b[0m\u001b[0mall\u001b[0m\u001b[0;34m(\u001b[0m\u001b[0;34m)\u001b[0m\u001b[0;34m]\u001b[0m\u001b[0;34m\u001b[0m\u001b[0;34m\u001b[0m\u001b[0m\n\u001b[0m",
      "\u001b[0;31mAttributeError\u001b[0m: 'ProductImage' object has no attribute 'url'"
     ]
    }
   ],
   "source": [
    "[i.url for i in p.images.all()]"
   ]
  },
  {
   "cell_type": "code",
   "execution_count": 40,
   "metadata": {},
   "outputs": [],
   "source": [
    "def get_product_image(product, name):\n",
    "    images = [i for i in product.images.all() if i.image.name == name]\n",
    "    if len(images):\n",
    "        return images[0]\n",
    "    else:\n",
    "        raise Exception(f\"VersatileImageField {name} not found\")"
   ]
  },
  {
   "cell_type": "code",
   "execution_count": 58,
   "metadata": {},
   "outputs": [],
   "source": [
    "def get_product_image(product, alt):\n",
    "    try:\n",
    "        return product.images.filter(alt=alt).first().image.url\n",
    "    except AttributeError:\n",
    "        return None"
   ]
  },
  {
   "cell_type": "code",
   "execution_count": 59,
   "metadata": {},
   "outputs": [],
   "source": [
    "get_image_by_alt(p, 'foo')"
   ]
  },
  {
   "cell_type": "code",
   "execution_count": 42,
   "metadata": {},
   "outputs": [
    {
     "data": {
      "text/plain": [
       "<ProductImage: ProductImage object (56)>"
      ]
     },
     "execution_count": 42,
     "metadata": {},
     "output_type": "execute_result"
    }
   ],
   "source": [
    "get_product_image(p, 'products/EKC-3d-image-2-min-1_v3qDvl7.jpg')"
   ]
  },
  {
   "cell_type": "code",
   "execution_count": 43,
   "metadata": {},
   "outputs": [
    {
     "data": {
      "text/plain": [
       "{'_state': <django.db.models.base.ModelState at 0x7fed2aae71d0>,\n",
       " 'id': 121,\n",
       " 'publication_date': None,\n",
       " 'is_published': True,\n",
       " 'private_meta': {},\n",
       " 'meta': {},\n",
       " 'seo_title': '',\n",
       " 'seo_description': 'With 105 mouth-watering recipes in The Essential Keto Cookbook, you’ve got meals, snacks, desserts, and breakfasts your entire family can enjoy for any occasion.',\n",
       " 'product_type_id': 16,\n",
       " 'name': 'Essential Keto Cookbook',\n",
       " 'description': '<p>With 105 mouth-watering recipes in The Essential Keto Cookbook, you’ve got meals, snacks, desserts, and breakfasts your entire family can enjoy for any occasion.</p>',\n",
       " 'description_json': {},\n",
       " 'category_id': 10,\n",
       " 'currency': 'USD',\n",
       " 'price_amount': Decimal('34.99'),\n",
       " 'minimal_variant_price_amount': Decimal('0.00'),\n",
       " 'updated_at': datetime.datetime(2020, 1, 2, 18, 1, 30, 993366, tzinfo=<UTC>),\n",
       " 'charge_taxes': True,\n",
       " 'weight': None}"
      ]
     },
     "execution_count": 43,
     "metadata": {},
     "output_type": "execute_result"
    }
   ],
   "source": [
    "p.__dict__"
   ]
  },
  {
   "cell_type": "code",
   "execution_count": 387,
   "metadata": {},
   "outputs": [
    {
     "data": {
      "text/plain": [
       "['funnel_order', 'pf_1', 'pf_2', 'pf_3', 'pf_4']"
      ]
     },
     "execution_count": 387,
     "metadata": {},
     "output_type": "execute_result"
    }
   ],
   "source": [
    "[a.attribute.slug for a in p.attributes.all()]#(attribute__slug='pf_1')]"
   ]
  },
  {
   "cell_type": "code",
   "execution_count": 390,
   "metadata": {},
   "outputs": [
    {
     "name": "stdout",
     "output_type": "stream",
     "text": [
      "Product Features 1 (pf_1) = 104+ Keto Recipes with Full Nutritional Data\n",
      "Product Features 2 (pf_2) = Full Color Physical Cookbook\n",
      "Product Features 3 (pf_3) = 2-Week Meal Plan (Breakfast, Lunch, Dinner)\n",
      "Product Features 4 (pf_4) = Complete Keto Diet Food List\n"
     ]
    }
   ],
   "source": [
    "for attribute_rel in p.attributes.all():\n",
    "    attribute = attribute_rel.attribute\n",
    "    if 'pf_' in attribute.slug:\n",
    "        print(f'{attribute.translated} ({attribute.slug}) = ', end='')\n",
    "        for value in attribute_rel.values.all():\n",
    "            print(value.translated)"
   ]
  },
  {
   "cell_type": "code",
   "execution_count": 8,
   "metadata": {},
   "outputs": [
    {
     "data": {
      "text/plain": [
       "'/en/products/essential-keto-cookbook-121/'"
      ]
     },
     "execution_count": 8,
     "metadata": {},
     "output_type": "execute_result"
    }
   ],
   "source": [
    "p.variants.first().get_absolute_url()"
   ]
  },
  {
   "cell_type": "code",
   "execution_count": null,
   "metadata": {},
   "outputs": [],
   "source": []
  },
  {
   "cell_type": "code",
   "execution_count": 379,
   "metadata": {},
   "outputs": [],
   "source": [
    "av = [a.values.first() for a in p.attributes.all() if a.attribute.slug == 'external_url'][0]"
   ]
  },
  {
   "cell_type": "code",
   "execution_count": 381,
   "metadata": {},
   "outputs": [
    {
     "data": {
      "text/plain": [
       "{'_state': <django.db.models.base.ModelState at 0x7fa91a162d90>,\n",
       " 'id': 89,\n",
       " 'sort_order': 3,\n",
       " 'name': 'http://localhost/banana-juice',\n",
       " 'value': '',\n",
       " 'slug': 'httplocalhostbanana-juice',\n",
       " 'attribute_id': 27}"
      ]
     },
     "execution_count": 381,
     "metadata": {},
     "output_type": "execute_result"
    }
   ],
   "source": [
    "av.__dict__"
   ]
  },
  {
   "cell_type": "code",
   "execution_count": 382,
   "metadata": {},
   "outputs": [],
   "source": [
    "av.name = 'http://localhost/banana-juice/'"
   ]
  },
  {
   "cell_type": "code",
   "execution_count": 383,
   "metadata": {},
   "outputs": [],
   "source": [
    "av.save()"
   ]
  },
  {
   "cell_type": "code",
   "execution_count": 344,
   "metadata": {},
   "outputs": [],
   "source": [
    "def get_first_attr_value(product, slug):\n",
    "    return product.attributes.get(assignment__attribute__slug=slug).assignment.attribute.values.first().name"
   ]
  },
  {
   "cell_type": "code",
   "execution_count": 356,
   "metadata": {},
   "outputs": [],
   "source": [
    "apa = p.attributes.get(assignment__attribute__slug='external_url')"
   ]
  },
  {
   "cell_type": "code",
   "execution_count": 364,
   "metadata": {},
   "outputs": [
    {
     "data": {
      "text/plain": [
       "<QuerySet [<AttributeValue: foo>, <AttributeValue: http://localhost/carrot-juice/>]>"
      ]
     },
     "execution_count": 364,
     "metadata": {},
     "output_type": "execute_result"
    }
   ],
   "source": [
    "apa.assignment.attribute.values.all()"
   ]
  },
  {
   "cell_type": "code",
   "execution_count": 354,
   "metadata": {},
   "outputs": [
    {
     "data": {
      "text/plain": [
       "'foo'"
      ]
     },
     "execution_count": 354,
     "metadata": {},
     "output_type": "execute_result"
    }
   ],
   "source": [
    "get_first_attr_value(p, 'external_url')"
   ]
  },
  {
   "cell_type": "code",
   "execution_count": 339,
   "metadata": {
    "scrolled": true
   },
   "outputs": [
    {
     "data": {
      "text/plain": [
       "['foo']"
      ]
     },
     "execution_count": 339,
     "metadata": {},
     "output_type": "execute_result"
    }
   ],
   "source": [
    "[a.assignment.attribute.values.first().name for a in p.attributes.filter(assignment__attribute__slug='external_url')]"
   ]
  },
  {
   "cell_type": "code",
   "execution_count": 319,
   "metadata": {},
   "outputs": [
    {
     "data": {
      "text/plain": [
       "[('flavor',\n",
       "  <QuerySet [<AttributeValue: Orange>, <AttributeValue: Banana>, <AttributeValue: Bean>, <AttributeValue: Carrot>, <AttributeValue: Sprouty>, <AttributeValue: Salty, like the tears of your enemy>, <AttributeValue: Pineapple>, <AttributeValue: Coconut>, <AttributeValue: Apple>]>),\n",
       " ('funnel_order',\n",
       "  <QuerySet [<AttributeValue: Primary>, <AttributeValue: Secondary>, <AttributeValue: Tertiary>]>),\n",
       " ('external_url', <QuerySet [<AttributeValue: foo>]>)]"
      ]
     },
     "execution_count": 319,
     "metadata": {},
     "output_type": "execute_result"
    }
   ],
   "source": [
    "[(a.attribute.slug, a.assignment.attribute.values.all()) for a in p.attributes.all()]"
   ]
  },
  {
   "cell_type": "code",
   "execution_count": 280,
   "metadata": {},
   "outputs": [
    {
     "data": {
      "text/plain": [
       "<saleor.product.models.Product(pk=73, name='Carrot Juice')>"
      ]
     },
     "execution_count": 280,
     "metadata": {},
     "output_type": "execute_result"
    }
   ],
   "source": [
    "pv = ProductVariant.objects.get(id=206); pv.product"
   ]
  },
  {
   "cell_type": "code",
   "execution_count": 284,
   "metadata": {},
   "outputs": [
    {
     "data": {
      "text/plain": [
       "saleor.product.models.Collection"
      ]
     },
     "execution_count": 284,
     "metadata": {},
     "output_type": "execute_result"
    }
   ],
   "source": [
    "Collection"
   ]
  },
  {
   "cell_type": "markdown",
   "metadata": {
    "heading_collapsed": true
   },
   "source": [
    "### Users and meta data"
   ]
  },
  {
   "cell_type": "code",
   "execution_count": 150,
   "metadata": {
    "hidden": true
   },
   "outputs": [],
   "source": [
    "user = User.objects.get(email=\"chris@nourishbalancethrive.com\")"
   ]
  },
  {
   "cell_type": "code",
   "execution_count": 151,
   "metadata": {
    "hidden": true
   },
   "outputs": [
    {
     "data": {
      "text/plain": [
       "{'payment-gateways': {'DUMMY': {'customer_id': None},\n",
       "  'STRIPE': {'customer_id': 'cus_GNciwmWqsAiSWp'},\n",
       "  'BRAINTREE': {'customer_id': '254012641'}}}"
      ]
     },
     "execution_count": 151,
     "metadata": {},
     "output_type": "execute_result"
    }
   ],
   "source": [
    "user.private_meta"
   ]
  },
  {
   "cell_type": "code",
   "execution_count": 160,
   "metadata": {
    "hidden": true
   },
   "outputs": [],
   "source": [
    "import stripe\n",
    "stripe.api_key = 'sk_test_ZPbcFgfw0fJwDT5S3iTbKtvZ00PKAqC1JC'"
   ]
  },
  {
   "cell_type": "code",
   "execution_count": 161,
   "metadata": {
    "hidden": true
   },
   "outputs": [],
   "source": [
    "customer_id = fetch_customer_id(user, \"Stripe\")"
   ]
  },
  {
   "cell_type": "code",
   "execution_count": 162,
   "metadata": {
    "hidden": true
   },
   "outputs": [
    {
     "name": "stderr",
     "output_type": "stream",
     "text": [
      "INFO stripe message='Request to Stripe api' method=get path=https://api.stripe.com/v1/customers/cus_GNciwmWqsAiSWp [PID:26089:MainThread]\n",
      "INFO stripe message='Stripe API response' path=https://api.stripe.com/v1/customers/cus_GNciwmWqsAiSWp response_code=200 [PID:26089:MainThread]\n"
     ]
    },
    {
     "data": {
      "text/plain": [
       "<Customer customer id=cus_GNciwmWqsAiSWp at 0x7fa91ae0bf50> JSON: {\n",
       "  \"address\": null,\n",
       "  \"balance\": 0,\n",
       "  \"created\": 1576632998,\n",
       "  \"currency\": null,\n",
       "  \"default_source\": null,\n",
       "  \"delinquent\": false,\n",
       "  \"description\": null,\n",
       "  \"discount\": null,\n",
       "  \"email\": \"chris@nourishbalancethrive.com\",\n",
       "  \"id\": \"cus_GNciwmWqsAiSWp\",\n",
       "  \"invoice_prefix\": \"DAA454C8\",\n",
       "  \"invoice_settings\": {\n",
       "    \"custom_fields\": null,\n",
       "    \"default_payment_method\": null,\n",
       "    \"footer\": null\n",
       "  },\n",
       "  \"livemode\": false,\n",
       "  \"metadata\": {},\n",
       "  \"name\": null,\n",
       "  \"object\": \"customer\",\n",
       "  \"phone\": null,\n",
       "  \"preferred_locales\": [],\n",
       "  \"shipping\": null,\n",
       "  \"sources\": {\n",
       "    \"data\": [],\n",
       "    \"has_more\": false,\n",
       "    \"object\": \"list\",\n",
       "    \"total_count\": 0,\n",
       "    \"url\": \"/v1/customers/cus_GNciwmWqsAiSWp/sources\"\n",
       "  },\n",
       "  \"subscriptions\": {\n",
       "    \"data\": [],\n",
       "    \"has_more\": false,\n",
       "    \"object\": \"list\",\n",
       "    \"total_count\": 0,\n",
       "    \"url\": \"/v1/customers/cus_GNciwmWqsAiSWp/subscriptions\"\n",
       "  },\n",
       "  \"tax_exempt\": \"none\",\n",
       "  \"tax_ids\": {\n",
       "    \"data\": [],\n",
       "    \"has_more\": false,\n",
       "    \"object\": \"list\",\n",
       "    \"total_count\": 0,\n",
       "    \"url\": \"/v1/customers/cus_GNciwmWqsAiSWp/tax_ids\"\n",
       "  },\n",
       "  \"tax_info\": null,\n",
       "  \"tax_info_verification\": null\n",
       "}"
      ]
     },
     "execution_count": 162,
     "metadata": {},
     "output_type": "execute_result"
    }
   ],
   "source": [
    "stripe.Customer.retrieve(customer_id)"
   ]
  },
  {
   "cell_type": "code",
   "execution_count": 164,
   "metadata": {
    "hidden": true
   },
   "outputs": [
    {
     "name": "stderr",
     "output_type": "stream",
     "text": [
      "INFO stripe message='Request to Stripe api' method=get path=https://api.stripe.com/v1/payment_methods/pm_1Fr51ODGt0TthQJw4hzissd3 [PID:26089:MainThread]\n",
      "INFO stripe message='Stripe API response' path=https://api.stripe.com/v1/payment_methods/pm_1Fr51ODGt0TthQJw4hzissd3 response_code=200 [PID:26089:MainThread]\n"
     ]
    }
   ],
   "source": [
    "payment_method = stripe.PaymentMethod.retrieve(\n",
    "  \"pm_1Fr51ODGt0TthQJw4hzissd3\",\n",
    ")"
   ]
  },
  {
   "cell_type": "code",
   "execution_count": 166,
   "metadata": {
    "hidden": true
   },
   "outputs": [
    {
     "data": {
      "text/plain": [
       "'cus_GNciwmWqsAiSWp'"
      ]
     },
     "execution_count": 166,
     "metadata": {},
     "output_type": "execute_result"
    }
   ],
   "source": [
    "payment_method.customer"
   ]
  },
  {
   "cell_type": "code",
   "execution_count": 143,
   "metadata": {
    "hidden": true
   },
   "outputs": [],
   "source": [
    "store_customer_id(user, \"Stripe\", None)"
   ]
  },
  {
   "cell_type": "code",
   "execution_count": 138,
   "metadata": {
    "hidden": true
   },
   "outputs": [
    {
     "data": {
      "text/plain": [
       "<User: chris@nourishbalancethrive.com>"
      ]
     },
     "execution_count": 138,
     "metadata": {},
     "output_type": "execute_result"
    }
   ],
   "source": [
    "user"
   ]
  },
  {
   "cell_type": "markdown",
   "metadata": {
    "heading_collapsed": true
   },
   "source": [
    "### Checkout"
   ]
  },
  {
   "cell_type": "code",
   "execution_count": 490,
   "metadata": {
    "hidden": true
   },
   "outputs": [
    {
     "data": {
      "text/plain": [
       "Checkout(quantity=1)"
      ]
     },
     "execution_count": 490,
     "metadata": {},
     "output_type": "execute_result"
    }
   ],
   "source": [
    "checkout = Checkout.objects.first(); checkout"
   ]
  },
  {
   "cell_type": "code",
   "execution_count": 491,
   "metadata": {
    "hidden": true
   },
   "outputs": [
    {
     "data": {
      "text/plain": [
       "{'_state': <django.db.models.base.ModelState at 0x7fa91aa4ca50>,\n",
       " 'private_meta': {},\n",
       " 'meta': {},\n",
       " 'created': datetime.datetime(2020, 1, 2, 2, 38, 50, 338857, tzinfo=<UTC>),\n",
       " 'last_change': datetime.datetime(2020, 1, 2, 2, 38, 50, 338897, tzinfo=<UTC>),\n",
       " 'user_id': None,\n",
       " 'email': 'chris@nourishbalancethrive.com',\n",
       " 'token': UUID('bfb51d41-c13d-4a9b-b204-169010208ccc'),\n",
       " 'quantity': 1,\n",
       " 'billing_address_id': None,\n",
       " 'shipping_address_id': 2216,\n",
       " 'shipping_method_id': 13,\n",
       " 'note': '',\n",
       " 'currency': 'USD',\n",
       " 'discount_amount': Decimal('0.00'),\n",
       " 'discount_name': None,\n",
       " 'translated_discount_name': None,\n",
       " 'voucher_code': None}"
      ]
     },
     "execution_count": 491,
     "metadata": {},
     "output_type": "execute_result"
    }
   ],
   "source": [
    "checkout.__dict__"
   ]
  },
  {
   "cell_type": "code",
   "execution_count": 492,
   "metadata": {
    "hidden": true
   },
   "outputs": [
    {
     "data": {
      "text/plain": [
       "(2,\n",
       " {'checkout.Checkout_gift_cards': 0,\n",
       "  'checkout.CheckoutLine': 1,\n",
       "  'checkout.Checkout': 1})"
      ]
     },
     "execution_count": 492,
     "metadata": {},
     "output_type": "execute_result"
    }
   ],
   "source": [
    "checkout.delete()"
   ]
  },
  {
   "cell_type": "code",
   "execution_count": 9,
   "metadata": {
    "hidden": true
   },
   "outputs": [
    {
     "data": {
      "text/plain": [
       "('07720ff7-2a3e-445b-9ea1-eeb79b50aa5f', <Order #280>)"
      ]
     },
     "execution_count": 9,
     "metadata": {},
     "output_type": "execute_result"
    }
   ],
   "source": [
    "o1 = Order.objects.first(); o1.token, o1"
   ]
  },
  {
   "cell_type": "code",
   "execution_count": 10,
   "metadata": {
    "hidden": true
   },
   "outputs": [
    {
     "data": {
      "text/plain": [
       "3"
      ]
     },
     "execution_count": 10,
     "metadata": {},
     "output_type": "execute_result"
    }
   ],
   "source": [
    "o1.lines.count()"
   ]
  },
  {
   "cell_type": "code",
   "execution_count": 15,
   "metadata": {
    "hidden": true
   },
   "outputs": [],
   "source": [
    "o1.store_meta('funnel', 'events', {'send_order_confirmation': True})"
   ]
  },
  {
   "cell_type": "code",
   "execution_count": 17,
   "metadata": {
    "hidden": true
   },
   "outputs": [
    {
     "data": {
      "text/plain": [
       "{'send_order_confirmation': True}"
      ]
     },
     "execution_count": 17,
     "metadata": {},
     "output_type": "execute_result"
    }
   ],
   "source": [
    "o1.get_meta('funnel', 'events')"
   ]
  },
  {
   "cell_type": "code",
   "execution_count": 16,
   "metadata": {
    "hidden": true
   },
   "outputs": [
    {
     "data": {
      "text/plain": [
       "{'funnel': {'events': {'send_order_confirmation': True}}}"
      ]
     },
     "execution_count": 16,
     "metadata": {},
     "output_type": "execute_result"
    }
   ],
   "source": [
    "o1.meta"
   ]
  },
  {
   "cell_type": "code",
   "execution_count": 11,
   "metadata": {
    "hidden": true
   },
   "outputs": [
    {
     "data": {
      "text/plain": [
       "{'_state': <django.db.models.base.ModelState at 0x7fed2aad0cd0>,\n",
       " 'id': 280,\n",
       " 'private_meta': {},\n",
       " 'meta': {},\n",
       " 'created': datetime.datetime(2020, 1, 15, 16, 40, 25, 684850, tzinfo=<UTC>),\n",
       " 'status': 'unfulfilled',\n",
       " 'user_id': 1,\n",
       " 'language_code': 'en',\n",
       " 'tracking_client_id': '5dce0806-ed60-58c7-bd47-0919e2bdd2bb',\n",
       " 'billing_address_id': 2801,\n",
       " 'shipping_address_id': 653,\n",
       " 'user_email': 'chris@nourishbalancethrive.com',\n",
       " 'currency': 'USD',\n",
       " 'shipping_method_id': 13,\n",
       " 'shipping_method_name': 'UPS',\n",
       " 'shipping_price_net_amount': Decimal('10.90'),\n",
       " 'shipping_price_gross_amount': Decimal('10.90'),\n",
       " 'token': '07720ff7-2a3e-445b-9ea1-eeb79b50aa5f',\n",
       " 'checkout_token': '4197b2c6-0c3c-461f-921e-bcd2566774ac',\n",
       " 'total_net_amount': Decimal('69.67'),\n",
       " 'total_gross_amount': Decimal('69.67'),\n",
       " 'voucher_id': None,\n",
       " 'discount_amount': Decimal('0.00'),\n",
       " 'discount_name': '',\n",
       " 'translated_discount_name': '',\n",
       " 'display_gross_prices': True,\n",
       " 'customer_note': '',\n",
       " 'weight': Mass(kg=1.0)}"
      ]
     },
     "execution_count": 11,
     "metadata": {},
     "output_type": "execute_result"
    }
   ],
   "source": [
    "o1.__dict__"
   ]
  },
  {
   "cell_type": "code",
   "execution_count": 495,
   "metadata": {
    "hidden": true
   },
   "outputs": [
    {
     "data": {
      "text/plain": [
       "[{'_state': <django.db.models.base.ModelState at 0x7fa91ad86090>,\n",
       "  'id': 366,\n",
       "  'gateway': 'Braintree',\n",
       "  'is_active': True,\n",
       "  'created': datetime.datetime(2020, 1, 2, 2, 39, 3, 820951, tzinfo=<UTC>),\n",
       "  'modified': datetime.datetime(2020, 1, 2, 2, 39, 3, 842982, tzinfo=<UTC>),\n",
       "  'charge_status': 'not-charged',\n",
       "  'token': '',\n",
       "  'total': Decimal('10.90'),\n",
       "  'captured_amount': Decimal('0.00'),\n",
       "  'currency': 'USD',\n",
       "  'checkout_id': None,\n",
       "  'order_id': 266,\n",
       "  'billing_email': '',\n",
       "  'billing_first_name': '',\n",
       "  'billing_last_name': '',\n",
       "  'billing_company_name': '',\n",
       "  'billing_address_1': '',\n",
       "  'billing_address_2': '',\n",
       "  'billing_city': '',\n",
       "  'billing_city_area': '',\n",
       "  'billing_postal_code': '',\n",
       "  'billing_country_code': '',\n",
       "  'billing_country_area': '',\n",
       "  'cc_first_digits': '',\n",
       "  'cc_last_digits': '',\n",
       "  'cc_brand': '',\n",
       "  'cc_exp_month': None,\n",
       "  'cc_exp_year': None,\n",
       "  'customer_ip_address': '10.0.2.2',\n",
       "  'extra_data': \"{'customer_user_agent': 'Mozilla/5.0 (Macintosh; Intel Mac OS X 10_15_1) AppleWebKit/537.36 (KHTML, like Gecko) Chrome/78.0.3904.97 Safari/537.36'}\"}]"
      ]
     },
     "execution_count": 495,
     "metadata": {},
     "output_type": "execute_result"
    }
   ],
   "source": [
    "[p.__dict__ for p in o1.payments.all()]"
   ]
  },
  {
   "cell_type": "code",
   "execution_count": 496,
   "metadata": {
    "hidden": true
   },
   "outputs": [
    {
     "data": {
      "text/plain": [
       "[[]]"
      ]
     },
     "execution_count": 496,
     "metadata": {},
     "output_type": "execute_result"
    }
   ],
   "source": [
    "[[t.delete() for t in p.transactions.all()] for p in o1.payments.all()]"
   ]
  },
  {
   "cell_type": "code",
   "execution_count": 497,
   "metadata": {
    "hidden": true
   },
   "outputs": [
    {
     "data": {
      "text/plain": [
       "[(1, {'payment.Payment': 1})]"
      ]
     },
     "execution_count": 497,
     "metadata": {},
     "output_type": "execute_result"
    }
   ],
   "source": [
    "[p.delete() for p in o1.payments.all()]"
   ]
  },
  {
   "cell_type": "code",
   "execution_count": 498,
   "metadata": {
    "hidden": true
   },
   "outputs": [
    {
     "data": {
      "text/plain": [
       "(3,\n",
       " {'order.Order_gift_cards': 0,\n",
       "  'product.DigitalContentUrl': 0,\n",
       "  'order.FulfillmentLine': 0,\n",
       "  'order.OrderEvent': 1,\n",
       "  'order.OrderLine': 1,\n",
       "  'order.Order': 1})"
      ]
     },
     "execution_count": 498,
     "metadata": {},
     "output_type": "execute_result"
    }
   ],
   "source": [
    "o1.delete()"
   ]
  },
  {
   "cell_type": "code",
   "execution_count": 399,
   "metadata": {
    "hidden": true
   },
   "outputs": [
    {
     "data": {
      "text/plain": [
       "{'payment-gateways': {'DUMMY': {'customer_id': None},\n",
       "  'STRIPE': {'customer_id': 'cus_GNciwmWqsAiSWp'},\n",
       "  'BRAINTREE': {'customer_id': '254012641'}}}"
      ]
     },
     "execution_count": 399,
     "metadata": {},
     "output_type": "execute_result"
    }
   ],
   "source": [
    "o1.user.private_meta"
   ]
  },
  {
   "cell_type": "code",
   "execution_count": 69,
   "metadata": {
    "hidden": true
   },
   "outputs": [
    {
     "data": {
      "text/plain": [
       "False"
      ]
     },
     "execution_count": 69,
     "metadata": {},
     "output_type": "execute_result"
    }
   ],
   "source": [
    "o1.is_fully_paid()"
   ]
  },
  {
   "cell_type": "code",
   "execution_count": 70,
   "metadata": {
    "hidden": true
   },
   "outputs": [],
   "source": [
    "o1.billing_address"
   ]
  },
  {
   "cell_type": "code",
   "execution_count": 71,
   "metadata": {
    "hidden": true
   },
   "outputs": [
    {
     "ename": "AttributeError",
     "evalue": "'NoneType' object has no attribute 'as_data'",
     "output_type": "error",
     "traceback": [
      "\u001b[0;31m---------------------------------------------------------------------------\u001b[0m",
      "\u001b[0;31mAttributeError\u001b[0m                            Traceback (most recent call last)",
      "\u001b[0;32m<ipython-input-71-ae235188a853>\u001b[0m in \u001b[0;36m<module>\u001b[0;34m\u001b[0m\n\u001b[0;32m----> 1\u001b[0;31m \u001b[0mo1\u001b[0m\u001b[0;34m.\u001b[0m\u001b[0mshipping_address\u001b[0m\u001b[0;34m.\u001b[0m\u001b[0mas_data\u001b[0m\u001b[0;34m(\u001b[0m\u001b[0;34m)\u001b[0m\u001b[0;34m\u001b[0m\u001b[0;34m\u001b[0m\u001b[0m\n\u001b[0m",
      "\u001b[0;31mAttributeError\u001b[0m: 'NoneType' object has no attribute 'as_data'"
     ]
    }
   ],
   "source": [
    "o1.shipping_address.as_data()"
   ]
  },
  {
   "cell_type": "code",
   "execution_count": 49,
   "metadata": {
    "hidden": true
   },
   "outputs": [],
   "source": [
    "o1.shipping_method"
   ]
  },
  {
   "cell_type": "code",
   "execution_count": 32,
   "metadata": {
    "hidden": true
   },
   "outputs": [
    {
     "data": {
      "text/plain": [
       "{'csrfmiddlewaretoken': ['cxHqQBwfi6Dt6hhXpyHEdsoWdAY5AxMk7lmMFLYQiWcYpQOotkhQEscuHb3HyIda',\n",
       "  'cxHqQBwfi6Dt6hhXpyHEdsoWdAY5AxMk7lmMFLYQiWcYpQOotkhQEscuHb3HyIda'],\n",
       " 'address': ['new_address'],\n",
       " 'first_name': ['Christopher'],\n",
       " 'last_name': ['Kelly'],\n",
       " 'company_name': ['Nourish Balance Thrive'],\n",
       " 'street_address_1': ['471 Country Estates Ter'],\n",
       " 'street_address_2': [''],\n",
       " 'city': ['Santa Cruz'],\n",
       " 'country_area': ['CA'],\n",
       " 'postal_code': ['95060'],\n",
       " 'city_area': [''],\n",
       " 'country': ['US'],\n",
       " 'phone_1': [''],\n",
       " 'preview': [''],\n",
       " 'shipping_method': ['13'],\n",
       " 'cardholder-name': ['Christopher Kelly'],\n",
       " 'payment_method_id': ['pm_1FmLG5DGt0TthQJwmdlFHvWr']}"
      ]
     },
     "execution_count": 32,
     "metadata": {},
     "output_type": "execute_result"
    }
   ],
   "source": [
    "d"
   ]
  },
  {
   "cell_type": "code",
   "execution_count": null,
   "metadata": {
    "hidden": true
   },
   "outputs": [],
   "source": []
  },
  {
   "cell_type": "code",
   "execution_count": 29,
   "metadata": {
    "hidden": true
   },
   "outputs": [
    {
     "ename": "AttributeError",
     "evalue": "'Order' object has no attribute 'redirect'",
     "output_type": "error",
     "traceback": [
      "\u001b[0;31m---------------------------------------------------------------------------\u001b[0m",
      "\u001b[0;31mAttributeError\u001b[0m                            Traceback (most recent call last)",
      "\u001b[0;32m<ipython-input-29-43fb42f3fa22>\u001b[0m in \u001b[0;36m<module>\u001b[0;34m\u001b[0m\n\u001b[0;32m----> 1\u001b[0;31m \u001b[0mo1\u001b[0m\u001b[0;34m.\u001b[0m\u001b[0mredirect\u001b[0m\u001b[0;34m\u001b[0m\u001b[0;34m\u001b[0m\u001b[0m\n\u001b[0m",
      "\u001b[0;31mAttributeError\u001b[0m: 'Order' object has no attribute 'redirect'"
     ]
    }
   ],
   "source": [
    "gettataaao1.redirect"
   ]
  },
  {
   "cell_type": "code",
   "execution_count": 22,
   "metadata": {
    "hidden": true
   },
   "outputs": [],
   "source": [
    "o1.billing_address"
   ]
  },
  {
   "cell_type": "code",
   "execution_count": 72,
   "metadata": {
    "hidden": true
   },
   "outputs": [
    {
     "data": {
      "text/plain": [
       "(3,\n",
       " {'order.Order_gift_cards': 0,\n",
       "  'product.DigitalContentUrl': 0,\n",
       "  'order.FulfillmentLine': 0,\n",
       "  'order.OrderEvent': 1,\n",
       "  'order.OrderLine': 1,\n",
       "  'order.Order': 1})"
      ]
     },
     "execution_count": 72,
     "metadata": {},
     "output_type": "execute_result"
    }
   ],
   "source": [
    "o1.delete()"
   ]
  },
  {
   "cell_type": "code",
   "execution_count": 26,
   "metadata": {
    "hidden": true
   },
   "outputs": [],
   "source": [
    "user = User.objects.get(email='chris@nourishbalancethrive.com')"
   ]
  },
  {
   "cell_type": "code",
   "execution_count": 27,
   "metadata": {
    "hidden": true
   },
   "outputs": [
    {
     "data": {
      "text/plain": [
       "<AddressQueryset [<Address: Nourish Balance Thrive - Christopher Kelly>]>"
      ]
     },
     "execution_count": 27,
     "metadata": {},
     "output_type": "execute_result"
    }
   ],
   "source": [
    "user.addresses.all()"
   ]
  },
  {
   "cell_type": "code",
   "execution_count": 17,
   "metadata": {
    "hidden": true
   },
   "outputs": [
    {
     "data": {
      "text/plain": [
       "[(2, {'account.User_addresses': 1, 'account.Address': 1}),\n",
       " (2, {'account.User_addresses': 1, 'account.Address': 1}),\n",
       " (2, {'account.User_addresses': 1, 'account.Address': 1}),\n",
       " (2, {'account.User_addresses': 1, 'account.Address': 1})]"
      ]
     },
     "execution_count": 17,
     "metadata": {},
     "output_type": "execute_result"
    }
   ],
   "source": [
    "[addr.delete() for addr in user.addresses.all()]"
   ]
  },
  {
   "cell_type": "code",
   "execution_count": 90,
   "metadata": {
    "hidden": true
   },
   "outputs": [
    {
     "data": {
      "text/plain": [
       "'USD'"
      ]
     },
     "execution_count": 90,
     "metadata": {},
     "output_type": "execute_result"
    }
   ],
   "source": [
    "o1.currency"
   ]
  },
  {
   "cell_type": "code",
   "execution_count": 98,
   "metadata": {
    "hidden": true
   },
   "outputs": [
    {
     "name": "stdout",
     "output_type": "stream",
     "text": [
      "41.50\n"
     ]
    }
   ],
   "source": [
    "print(o1.total_gross.amount)"
   ]
  },
  {
   "cell_type": "code",
   "execution_count": 17,
   "metadata": {
    "hidden": true
   },
   "outputs": [
    {
     "data": {
      "text/plain": [
       "'374ca1c7-5aa8-4b44-9d9c-f1147f818e33'"
      ]
     },
     "execution_count": 17,
     "metadata": {},
     "output_type": "execute_result"
    }
   ],
   "source": [
    "o1.token"
   ]
  },
  {
   "cell_type": "code",
   "execution_count": 15,
   "metadata": {
    "hidden": true
   },
   "outputs": [
    {
     "data": {
      "text/plain": [
       "<Order #111>"
      ]
     },
     "execution_count": 15,
     "metadata": {},
     "output_type": "execute_result"
    }
   ],
   "source": [
    "upsell_order(o1, checkout, \"\")"
   ]
  },
  {
   "cell_type": "code",
   "execution_count": 16,
   "metadata": {
    "hidden": true
   },
   "outputs": [
    {
     "data": {
      "text/plain": [
       "'Braintree'"
      ]
     },
     "execution_count": 16,
     "metadata": {},
     "output_type": "execute_result"
    }
   ],
   "source": [
    "o1.payments.first().gateway"
   ]
  },
  {
   "cell_type": "code",
   "execution_count": 17,
   "metadata": {
    "hidden": true
   },
   "outputs": [
    {
     "data": {
      "text/plain": [
       "1"
      ]
     },
     "execution_count": 17,
     "metadata": {},
     "output_type": "execute_result"
    }
   ],
   "source": [
    "len(o1.payments.all())"
   ]
  },
  {
   "cell_type": "code",
   "execution_count": 16,
   "metadata": {
    "hidden": true
   },
   "outputs": [
    {
     "name": "stdout",
     "output_type": "stream",
     "text": [
      "Automatic pdb calling has been turned OFF\n"
     ]
    }
   ],
   "source": [
    "%pdb"
   ]
  },
  {
   "cell_type": "code",
   "execution_count": 18,
   "metadata": {
    "hidden": true
   },
   "outputs": [],
   "source": [
    "payment = o1.payments.first()\n",
    "extra_data = {f\"upsell_payment_number\": f'{len(o1.payments.all())}'}\n",
    "payment_ = create_payment(\n",
    "      gateway=payment.gateway,\n",
    "      currency=o1.total.gross.currency,\n",
    "      email=o1.user_email,\n",
    "      billing_address=o1.billing_address,\n",
    "      customer_ip_address=payment.customer_ip_address,\n",
    "      total=abs(o1.total_balance.amount),\n",
    "      order=o1,\n",
    "      extra_data=extra_data,\n",
    "  )"
   ]
  },
  {
   "cell_type": "code",
   "execution_count": 19,
   "metadata": {
    "hidden": true
   },
   "outputs": [
    {
     "data": {
      "text/plain": [
       "{'upsell_payment_number': '1'}"
      ]
     },
     "execution_count": 19,
     "metadata": {},
     "output_type": "execute_result"
    }
   ],
   "source": [
    "extra_data"
   ]
  },
  {
   "cell_type": "code",
   "execution_count": 20,
   "metadata": {
    "hidden": true
   },
   "outputs": [
    {
     "data": {
      "text/plain": [
       "(Payment(gateway=Braintree, is_active=True, created=2019-11-22 21:12:21.847482+00:00, charge_status=not-charged),\n",
       " 150)"
      ]
     },
     "execution_count": 20,
     "metadata": {},
     "output_type": "execute_result"
    }
   ],
   "source": [
    "payment_, payment_.pk"
   ]
  },
  {
   "cell_type": "code",
   "execution_count": 21,
   "metadata": {
    "hidden": true
   },
   "outputs": [],
   "source": [
    "transaction = payment.transactions.first()\n",
    "token = transaction.gateway_response.get('payment_method', '')\n",
    "customer_id = transaction.customer_id"
   ]
  },
  {
   "cell_type": "code",
   "execution_count": 23,
   "metadata": {
    "hidden": true
   },
   "outputs": [
    {
     "data": {
      "text/plain": [
       "('896095806', '')"
      ]
     },
     "execution_count": 23,
     "metadata": {},
     "output_type": "execute_result"
    }
   ],
   "source": [
    "customer_id, token"
   ]
  },
  {
   "cell_type": "code",
   "execution_count": 24,
   "metadata": {
    "hidden": true,
    "scrolled": true
   },
   "outputs": [
    {
     "name": "stdout",
     "output_type": "stream",
     "text": [
      "process_payment: token:  store_source: True\n",
      "process_payment: reuse_source: True\n",
      "braintree.authorize: payment_information: PaymentData(amount=Decimal('7.00'), currency='USD', billing=AddressData(first_name='Julia', last_name='Kelly', company_name='Nourish Balance Thrive', street_address_1='471 Country Estates Ter', street_address_2='', city='SANTA CRUZ', city_area='', postal_code='95060', country='US', country_area='CA', phone='+14157069979'), shipping=AddressData(first_name='Julia', last_name='Kelly', company_name='Nourish Balance Thrive', street_address_1='471 Country Estates Ter', street_address_2='', city='SANTA CRUZ', city_area='', postal_code='95060', country='US', country_area='CA', phone='+14157069979'), order_id=111, customer_ip_address='10.0.2.2', customer_email='chris@nourishbalancethrive.com', token='', customer_id='896095806', reuse_source=True)\n",
      "authorize: gateway_response: {'transaction_id': 'ah26wx02', 'currency': 'USD', 'amount': Decimal('7.00'), 'credit_card': {'token': 'b4qdmk', 'bin': None, 'last_4': None, 'card_type': None, 'expiration_month': '', 'expiration_year': '', 'customer_location': None, 'cardholder_name': None, 'image_url': 'https://assets.braintreegateway.com/payment_method_logo/unknown.png?environment=sandbox', 'prepaid': 'Unknown', 'healthcare': 'Unknown', 'debit': 'Unknown', 'durbin_regulated': 'Unknown', 'commercial': 'Unknown', 'payroll': 'Unknown', 'issuing_bank': 'Unknown', 'country_of_issuance': 'Unknown', 'product_id': 'Unknown', 'global_id': 'cGF5bWVudG1ldGhvZF9jY19iNHFkbWs', 'account_type': None, 'unique_number_identifier': None, 'venmo_sdk': False}, 'customer_id': '896095806', 'errors': []}\n",
      "process_payment: response: GatewayResponse(is_success=False, action_required=False, kind='capture', amount=Decimal('7.00'), currency='USD', transaction_id='ah26wx02', error='', customer_id='896095806', card_info=None, raw_response={'transaction_id': 'ah26wx02', 'currency': 'USD', 'amount': Decimal('7.00'), 'credit_card': {'token': 'b4qdmk', 'bin': None, 'last_4': None, 'card_type': None, 'expiration_month': '', 'expiration_year': '', 'customer_location': None, 'cardholder_name': None, 'image_url': 'https://assets.braintreegateway.com/payment_method_logo/unknown.png?environment=sandbox', 'prepaid': 'Unknown', 'healthcare': 'Unknown', 'debit': 'Unknown', 'durbin_regulated': 'Unknown', 'commercial': 'Unknown', 'payroll': 'Unknown', 'issuing_bank': 'Unknown', 'country_of_issuance': 'Unknown', 'product_id': 'Unknown', 'global_id': 'cGF5bWVudG1ldGhvZF9jY19iNHFkbWs', 'account_type': None, 'unique_number_identifier': None, 'venmo_sdk': False}, 'customer_id': '896095806', 'errors': []}), error: None\n"
     ]
    },
    {
     "ename": "PaymentError",
     "evalue": "Transaction was unsuccessful",
     "output_type": "error",
     "traceback": [
      "\u001b[0;31m---------------------------------------------------------------------------\u001b[0m",
      "\u001b[0;31mPaymentError\u001b[0m                              Traceback (most recent call last)",
      "\u001b[0;32m<ipython-input-24-42f2495b171f>\u001b[0m in \u001b[0;36m<module>\u001b[0;34m\u001b[0m\n\u001b[0;32m----> 1\u001b[0;31m \u001b[0mtransaction\u001b[0m \u001b[0;34m=\u001b[0m \u001b[0mprocess_payment\u001b[0m\u001b[0;34m(\u001b[0m\u001b[0mpayment_\u001b[0m\u001b[0;34m,\u001b[0m \u001b[0mtoken\u001b[0m\u001b[0;34m,\u001b[0m \u001b[0mstore_source\u001b[0m\u001b[0;34m=\u001b[0m\u001b[0;32mTrue\u001b[0m\u001b[0;34m,\u001b[0m \u001b[0mcustomer_id\u001b[0m\u001b[0;34m=\u001b[0m\u001b[0mcustomer_id\u001b[0m\u001b[0;34m)\u001b[0m\u001b[0;34m\u001b[0m\u001b[0;34m\u001b[0m\u001b[0m\n\u001b[0m",
      "\u001b[0;32m~/saleor/saleor/payment/gateway.py\u001b[0m in \u001b[0;36mwrapped\u001b[0;34m(*args, **kwargs)\u001b[0m\n\u001b[1;32m     36\u001b[0m \u001b[0;32mdef\u001b[0m \u001b[0mpayment_postprocess\u001b[0m\u001b[0;34m(\u001b[0m\u001b[0mfn\u001b[0m\u001b[0;34m)\u001b[0m\u001b[0;34m:\u001b[0m\u001b[0;34m\u001b[0m\u001b[0;34m\u001b[0m\u001b[0m\n\u001b[1;32m     37\u001b[0m     \u001b[0;32mdef\u001b[0m \u001b[0mwrapped\u001b[0m\u001b[0;34m(\u001b[0m\u001b[0;34m*\u001b[0m\u001b[0margs\u001b[0m\u001b[0;34m,\u001b[0m \u001b[0;34m**\u001b[0m\u001b[0mkwargs\u001b[0m\u001b[0;34m)\u001b[0m\u001b[0;34m:\u001b[0m\u001b[0;34m\u001b[0m\u001b[0;34m\u001b[0m\u001b[0m\n\u001b[0;32m---> 38\u001b[0;31m         \u001b[0mtxn\u001b[0m \u001b[0;34m=\u001b[0m \u001b[0mfn\u001b[0m\u001b[0;34m(\u001b[0m\u001b[0;34m*\u001b[0m\u001b[0margs\u001b[0m\u001b[0;34m,\u001b[0m \u001b[0;34m**\u001b[0m\u001b[0mkwargs\u001b[0m\u001b[0;34m)\u001b[0m\u001b[0;34m\u001b[0m\u001b[0;34m\u001b[0m\u001b[0m\n\u001b[0m\u001b[1;32m     39\u001b[0m         \u001b[0mgateway_postprocess\u001b[0m\u001b[0;34m(\u001b[0m\u001b[0mtxn\u001b[0m\u001b[0;34m,\u001b[0m \u001b[0mtxn\u001b[0m\u001b[0;34m.\u001b[0m\u001b[0mpayment\u001b[0m\u001b[0;34m)\u001b[0m\u001b[0;34m\u001b[0m\u001b[0;34m\u001b[0m\u001b[0m\n\u001b[1;32m     40\u001b[0m         \u001b[0;32mreturn\u001b[0m \u001b[0mtxn\u001b[0m\u001b[0;34m\u001b[0m\u001b[0;34m\u001b[0m\u001b[0m\n",
      "\u001b[0;32m~/saleor/saleor/payment/gateway.py\u001b[0m in \u001b[0;36mwrapped\u001b[0;34m(*args, **kwargs)\u001b[0m\n\u001b[1;32m     28\u001b[0m         \u001b[0mresult\u001b[0m \u001b[0;34m=\u001b[0m \u001b[0mfn\u001b[0m\u001b[0;34m(\u001b[0m\u001b[0;34m*\u001b[0m\u001b[0margs\u001b[0m\u001b[0;34m,\u001b[0m \u001b[0;34m**\u001b[0m\u001b[0mkwargs\u001b[0m\u001b[0;34m)\u001b[0m\u001b[0;34m\u001b[0m\u001b[0;34m\u001b[0m\u001b[0m\n\u001b[1;32m     29\u001b[0m         \u001b[0;32mif\u001b[0m \u001b[0;32mnot\u001b[0m \u001b[0mresult\u001b[0m\u001b[0;34m.\u001b[0m\u001b[0mis_success\u001b[0m\u001b[0;34m:\u001b[0m\u001b[0;34m\u001b[0m\u001b[0;34m\u001b[0m\u001b[0m\n\u001b[0;32m---> 30\u001b[0;31m             \u001b[0;32mraise\u001b[0m \u001b[0mPaymentError\u001b[0m\u001b[0;34m(\u001b[0m\u001b[0mresult\u001b[0m\u001b[0;34m.\u001b[0m\u001b[0merror\u001b[0m \u001b[0;32mor\u001b[0m \u001b[0mGENERIC_TRANSACTION_ERROR\u001b[0m\u001b[0;34m)\u001b[0m\u001b[0;34m\u001b[0m\u001b[0;34m\u001b[0m\u001b[0m\n\u001b[0m\u001b[1;32m     31\u001b[0m         \u001b[0;32mreturn\u001b[0m \u001b[0mresult\u001b[0m\u001b[0;34m\u001b[0m\u001b[0;34m\u001b[0m\u001b[0m\n\u001b[1;32m     32\u001b[0m \u001b[0;34m\u001b[0m\u001b[0m\n",
      "\u001b[0;31mPaymentError\u001b[0m: Transaction was unsuccessful"
     ]
    }
   ],
   "source": [
    "transaction = process_payment(payment_, token, store_source=True, customer_id=customer_id)"
   ]
  },
  {
   "cell_type": "code",
   "execution_count": null,
   "metadata": {
    "hidden": true
   },
   "outputs": [],
   "source": [
    "GatewayResponse(is_success=True, action_required=False, kind='capture', amount=Decimal('13.90'), currency='USD', transaction_id='4j7vnf6v', error='', cust\n",
    "omer_id='409815689', card_info=None, raw_response={'transaction_id': '4j7vnf6v', 'currency': 'USD', 'amount': Decimal('13.90'), 'credit_card': {'token': '43thd9', 'bin': None, 'last\n",
    "_4': None, 'card_type': None, 'expiration_month': '', 'expiration_year': '', 'customer_location': None, 'cardholder_name': None, 'image_url': 'https://assets.braintreegateway.com/pa\n",
    "yment_method_logo/unknown.png?environment=sandbox', 'prepaid': 'Unknown', 'healthcare': 'Unknown', 'debit': 'Unknown', 'durbin_regulated': 'Unknown', 'commercial': 'Unknown', 'payro\n",
    "ll': 'Unknown', 'issuing_bank': 'Unknown', 'country_of_issuance': 'Unknown', 'product_id': 'Unknown', 'global_id': 'cGF5bWVudG1ldGhvZF9jY180M3RoZDk', 'account_type': None, 'unique_n\n",
    "umber_identifier': None, 'venmo_sdk': False}, 'customer_id': '409815689', 'errors': []}), error: None"
   ]
  },
  {
   "cell_type": "code",
   "execution_count": 17,
   "metadata": {
    "hidden": true
   },
   "outputs": [
    {
     "data": {
      "text/plain": [
       "102"
      ]
     },
     "execution_count": 17,
     "metadata": {},
     "output_type": "execute_result"
    }
   ],
   "source": [
    "transaction.pk"
   ]
  },
  {
   "cell_type": "code",
   "execution_count": 214,
   "metadata": {
    "hidden": true
   },
   "outputs": [
    {
     "data": {
      "text/plain": [
       "29.9"
      ]
     },
     "execution_count": 214,
     "metadata": {},
     "output_type": "execute_result"
    }
   ],
   "source": [
    "19+10.9"
   ]
  },
  {
   "cell_type": "code",
   "execution_count": 217,
   "metadata": {
    "hidden": true
   },
   "outputs": [],
   "source": [
    "o1.save()"
   ]
  },
  {
   "cell_type": "code",
   "execution_count": 175,
   "metadata": {
    "hidden": true
   },
   "outputs": [
    {
     "data": {
      "text/plain": [
       "<QuerySet [Payment(gateway=Dummy, is_active=True, created=2019-11-14 15:01:58.499543+00:00, charge_status=fully-charged), Payment(gateway=Dummy, is_active=True, created=2019-11-14 17:05:32.774685+00:00, charge_status=fully-charged)]>"
      ]
     },
     "execution_count": 175,
     "metadata": {},
     "output_type": "execute_result"
    }
   ],
   "source": [
    "o1.payments.all()"
   ]
  },
  {
   "cell_type": "code",
   "execution_count": null,
   "metadata": {
    "hidden": true
   },
   "outputs": [],
   "source": []
  },
  {
   "cell_type": "code",
   "execution_count": null,
   "metadata": {
    "hidden": true
   },
   "outputs": [],
   "source": []
  },
  {
   "cell_type": "code",
   "execution_count": 144,
   "metadata": {
    "hidden": true
   },
   "outputs": [
    {
     "data": {
      "text/plain": [
       "<QuerySet [Transaction(type=capture, is_success=True, created=2019-11-13 16:45:48.503291+00:00)]>"
      ]
     },
     "execution_count": 144,
     "metadata": {},
     "output_type": "execute_result"
    }
   ],
   "source": [
    "payment2.transactions.all()"
   ]
  },
  {
   "cell_type": "code",
   "execution_count": 152,
   "metadata": {
    "hidden": true
   },
   "outputs": [
    {
     "data": {
      "text/plain": [
       "<QuerySet [Payment(gateway=Dummy, is_active=True, created=2019-11-13 16:42:32.471117+00:00, charge_status=fully-charged), Payment(gateway=Dummy, is_active=True, created=2019-11-13 16:45:38.533943+00:00, charge_status=fully-charged)]>"
      ]
     },
     "execution_count": 152,
     "metadata": {},
     "output_type": "execute_result"
    }
   ],
   "source": [
    "o1.payments.all()"
   ]
  },
  {
   "cell_type": "code",
   "execution_count": 145,
   "metadata": {
    "hidden": true
   },
   "outputs": [],
   "source": [
    "payment.transactions.add(transaction)"
   ]
  },
  {
   "cell_type": "code",
   "execution_count": 146,
   "metadata": {
    "hidden": true
   },
   "outputs": [],
   "source": [
    "payment.save()"
   ]
  },
  {
   "cell_type": "code",
   "execution_count": 147,
   "metadata": {
    "hidden": true
   },
   "outputs": [
    {
     "data": {
      "text/plain": [
       "Decimal('13.90')"
      ]
     },
     "execution_count": 147,
     "metadata": {},
     "output_type": "execute_result"
    }
   ],
   "source": [
    "payment.total"
   ]
  },
  {
   "cell_type": "code",
   "execution_count": 150,
   "metadata": {
    "hidden": true
   },
   "outputs": [
    {
     "data": {
      "text/plain": [
       "[Decimal('13.90'), Decimal('-7.00'), Decimal('7.00'), Decimal('0.00')]"
      ]
     },
     "execution_count": 150,
     "metadata": {},
     "output_type": "execute_result"
    }
   ],
   "source": [
    "[t.amount for t in payment.transactions.all()]"
   ]
  },
  {
   "cell_type": "code",
   "execution_count": null,
   "metadata": {
    "hidden": true
   },
   "outputs": [],
   "source": []
  },
  {
   "cell_type": "markdown",
   "metadata": {
    "hidden": true
   },
   "source": [
    "I think the code above works, but the methods in `Order` and maybe `Payment` don't work for multiple payments. Add new methods and adjust dashboard templates accordingly."
   ]
  }
 ],
 "metadata": {
  "kernelspec": {
   "display_name": "Django Shell-Plus",
   "language": "python",
   "name": "django_extensions"
  },
  "language_info": {
   "codemirror_mode": {
    "name": "ipython",
    "version": 3
   },
   "file_extension": ".py",
   "mimetype": "text/x-python",
   "name": "python",
   "nbconvert_exporter": "python",
   "pygments_lexer": "ipython3",
   "version": "3.7.5"
  }
 },
 "nbformat": 4,
 "nbformat_minor": 2
}
